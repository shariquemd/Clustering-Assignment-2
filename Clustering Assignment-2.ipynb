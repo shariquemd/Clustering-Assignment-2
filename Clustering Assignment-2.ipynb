{
 "cells": [
  {
   "cell_type": "code",
   "execution_count": null,
   "id": "4233e1a1-dc6f-49c1-9c46-2c29ff0129e1",
   "metadata": {},
   "outputs": [],
   "source": [
    "\n",
    "ANSWER1:\n",
    "Hierarchical Clustering:\n",
    "How it Differs: Unlike partitioning methods (e.g., K-Means), hierarchical clustering doesn't require specifying the number of clusters beforehand. It creates a hierarchy of clusters, revealing relationships between data points.\n",
    "\n",
    "ANSWER2:\n",
    "Two Main Types of Hierarchical Clustering:\n",
    "Agglomerative (Bottom-Up): Starts with individual data points as separate clusters and merges them based on similarity until a single cluster is formed.\n",
    "Divisive (Top-Down): Begins with all data points in one cluster and recursively splits them into smaller clusters based on dissimilarity.\n",
    "\n",
    "ANSWER3:\n",
    "Determining Distance between Clusters:\n",
    "Linkage Methods: Define the distance between two clusters.\n",
    "Single Linkage: Minimum distance between any two points in the clusters.\n",
    "Complete Linkage: Maximum distance between any two points in the clusters.\n",
    "Average Linkage: Average distance between all pairs of points in the clusters.\n",
    "\n",
    "ANSWER4:\n",
    "Optimal Number of Clusters in Hierarchical Clustering:\n",
    "Dendrogram Inspection: Look for the \"elbow\" point where the hierarchy branches into distinct clusters.\n",
    "Cophenetic Correlation Coefficient: Measures how faithfully a dendrogram preserves the pairwise distances between data points.\n",
    "\n",
    "ANSWER5:\n",
    "Dendrograms:\n",
    "What They Are: Tree-like structures representing the hierarchy of clusters.\n",
    "Usefulness: Dendrograms visually show the relationships between data points, helping to identify clusters and their connections.\n",
    "\n",
    "ANSWER6:\n",
    "Hierarchical Clustering for Numerical and Categorical Data:\n",
    "Numerical Data: Euclidean distance or other distance metrics suitable for continuous variables.\n",
    "Categorical Data: Gower's distance or other metrics designed for categorical variables.\n",
    "\n",
    "ANSWER7:\n",
    "Identifying Outliers with Hierarchical Clustering:\n",
    "Distance to Nearest Cluster: Points with significantly large distances to their nearest clusters may be considered outliers.\n",
    "Cutting the Dendrogram: Choosing a height to cut the dendrogram, forming distinct clusters and identifying points in smaller, isolated clusters."
   ]
  }
 ],
 "metadata": {
  "kernelspec": {
   "display_name": "Python 3 (ipykernel)",
   "language": "python",
   "name": "python3"
  },
  "language_info": {
   "codemirror_mode": {
    "name": "ipython",
    "version": 3
   },
   "file_extension": ".py",
   "mimetype": "text/x-python",
   "name": "python",
   "nbconvert_exporter": "python",
   "pygments_lexer": "ipython3",
   "version": "3.10.8"
  }
 },
 "nbformat": 4,
 "nbformat_minor": 5
}
